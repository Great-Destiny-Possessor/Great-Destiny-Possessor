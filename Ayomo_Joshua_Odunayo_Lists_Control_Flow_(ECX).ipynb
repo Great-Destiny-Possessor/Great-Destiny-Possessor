{
  "nbformat": 4,
  "nbformat_minor": 0,
  "metadata": {
    "colab": {
      "provenance": [],
      "include_colab_link": true
    },
    "kernelspec": {
      "name": "python3",
      "display_name": "Python 3"
    },
    "language_info": {
      "name": "python"
    }
  },
  "cells": [
    {
      "cell_type": "markdown",
      "metadata": {
        "id": "view-in-github",
        "colab_type": "text"
      },
      "source": [
        "<a href=\"https://colab.research.google.com/github/Great-Destiny-Possessor/Great-Destiny-Possessor/blob/main/Ayomo_Joshua_Odunayo_Lists_Control_Flow_(ECX).ipynb\" target=\"_parent\"><img src=\"https://colab.research.google.com/assets/colab-badge.svg\" alt=\"Open In Colab\"/></a>"
      ]
    },
    {
      "cell_type": "markdown",
      "source": [
        "# **Mounting Drive**"
      ],
      "metadata": {
        "id": "F-ZZQuj6WyJG"
      }
    },
    {
      "cell_type": "code",
      "source": [
        "from google.colab import drive\n",
        "drive.mount('/content/drive')"
      ],
      "metadata": {
        "id": "s_GDfB9LW25d",
        "colab": {
          "base_uri": "https://localhost:8080/"
        },
        "outputId": "f4f8b6ef-16a3-4ca1-8c68-94dd36fb2644"
      },
      "execution_count": 2,
      "outputs": [
        {
          "output_type": "stream",
          "name": "stdout",
          "text": [
            "Mounted at /content/drive\n"
          ]
        }
      ]
    },
    {
      "cell_type": "markdown",
      "source": [
        "### **Navigate to ECX folder**"
      ],
      "metadata": {
        "id": "k1Dx5esMW57k"
      }
    },
    {
      "cell_type": "code",
      "source": [
        "import os\n",
        "os.chdir('/content/drive/MyDrive/ECX_14_days_of_code')\n",
        "print(f\"Current working directory: {os.getcwd()}\")"
      ],
      "metadata": {
        "id": "z7SssuHJW-Ia",
        "colab": {
          "base_uri": "https://localhost:8080/",
          "height": 193
        },
        "outputId": "7d1894e4-1912-4af4-b4a2-250d7ce3f75d"
      },
      "execution_count": 3,
      "outputs": [
        {
          "output_type": "error",
          "ename": "FileNotFoundError",
          "evalue": "[Errno 2] No such file or directory: '/content/drive/MyDrive/ECX_14_days_of_code'",
          "traceback": [
            "\u001b[0;31m---------------------------------------------------------------------------\u001b[0m",
            "\u001b[0;31mFileNotFoundError\u001b[0m                         Traceback (most recent call last)",
            "\u001b[0;32m/tmp/ipython-input-3-2443890942.py\u001b[0m in \u001b[0;36m<cell line: 0>\u001b[0;34m()\u001b[0m\n\u001b[1;32m      1\u001b[0m \u001b[0;32mimport\u001b[0m \u001b[0mos\u001b[0m\u001b[0;34m\u001b[0m\u001b[0;34m\u001b[0m\u001b[0m\n\u001b[0;32m----> 2\u001b[0;31m \u001b[0mos\u001b[0m\u001b[0;34m.\u001b[0m\u001b[0mchdir\u001b[0m\u001b[0;34m(\u001b[0m\u001b[0;34m'/content/drive/MyDrive/ECX_14_days_of_code'\u001b[0m\u001b[0;34m)\u001b[0m\u001b[0;34m\u001b[0m\u001b[0;34m\u001b[0m\u001b[0m\n\u001b[0m\u001b[1;32m      3\u001b[0m \u001b[0mprint\u001b[0m\u001b[0;34m(\u001b[0m\u001b[0;34mf\"Current working directory: {os.getcwd()}\"\u001b[0m\u001b[0;34m)\u001b[0m\u001b[0;34m\u001b[0m\u001b[0;34m\u001b[0m\u001b[0m\n",
            "\u001b[0;31mFileNotFoundError\u001b[0m: [Errno 2] No such file or directory: '/content/drive/MyDrive/ECX_14_days_of_code'"
          ]
        }
      ]
    },
    {
      "cell_type": "markdown",
      "source": [
        "**Print all files in EXC folder to you saved your last Notebook and you manually moved it there**"
      ],
      "metadata": {
        "id": "0elUAJ17XDMw"
      }
    },
    {
      "cell_type": "code",
      "source": [
        "!ls"
      ],
      "metadata": {
        "id": "v14WYJ-TXN6E",
        "colab": {
          "base_uri": "https://localhost:8080/"
        },
        "outputId": "113cc9dc-306c-499b-8218-e320ba5a0969"
      },
      "execution_count": null,
      "outputs": [
        {
          "output_type": "stream",
          "name": "stdout",
          "text": [
            "'Python_Basics_  (ECX).ipynb'\n"
          ]
        }
      ]
    },
    {
      "cell_type": "markdown",
      "source": [
        "### **Strings**\n",
        "\n",
        "\n",
        "We discussed strings in the previous notebook, defining a string as a sequence\n",
        "\n",
        "\n",
        "of characters. Every character in a sequence has its own unique position; that's what 'sequence' implies! In Python, this indexing usually starts from 0.\n",
        "\n",
        "So, if we have the string \"Hello\":\n",
        "\n",
        "This string has five characters:\n",
        "\n",
        "* \"H\" is at the 0-th position (index 0)\n",
        "* \"e\" is at the 1st position (index 1)\n",
        "* \"l\" is at the 2nd position (index 2)\n",
        "* \"l\" is at the 3rd position (index 3)\n",
        "* \"o\" is at the 4th position (index 4)\n",
        "Therefore, the string \"Hello\" has five characters, located at indices from 0 to 4.\"\n",
        "\n",
        "We can also choose to count this sequence from behind with the last element at index `-1`\n",
        "\n",
        "* \"H\" is at the 0-th position (index -5)\n",
        "* \"e\" is at the 1st position (index -4)\n",
        "* \"l\" is at the 2nd position (index -3)\n",
        "* \"l\" is at the 3rd position (index -2)\n",
        "* \"o\" is at the 4th position (index -1)\n",
        "\n",
        "\n",
        "\n"
      ],
      "metadata": {
        "id": "F3j7NV0Ermb1"
      }
    },
    {
      "cell_type": "markdown",
      "source": [
        "#### **Declaring a string**\n",
        "\n",
        "An empty string is a string with no characters."
      ],
      "metadata": {
        "id": "H3b4i4FEJTda"
      }
    },
    {
      "cell_type": "code",
      "source": [
        "# declaring an empty string\n",
        "\n",
        "some_string = \"\" # assigned an empty string to a variable I called some_string\n",
        "print(some_string)"
      ],
      "metadata": {
        "colab": {
          "base_uri": "https://localhost:8080/"
        },
        "id": "lPg4a_NsJa4P",
        "outputId": "5c7a9c80-3694-44a1-9f5a-f5b6e9147797"
      },
      "execution_count": null,
      "outputs": [
        {
          "output_type": "stream",
          "name": "stdout",
          "text": [
            "\n"
          ]
        }
      ]
    },
    {
      "cell_type": "code",
      "source": [
        "# Multiple line strings (aka Doc strings)\n",
        "\n",
        "message = \"\"\"Hello, Nice to have you here\n",
        "keep learning\"\"\"\n",
        "\n",
        "print(message)"
      ],
      "metadata": {
        "id": "HiHWArl8ON6x"
      },
      "execution_count": null,
      "outputs": []
    },
    {
      "cell_type": "markdown",
      "source": [
        "#### **Indexing a string**\n",
        "To access individual characters within a string, you use indexing with square brackets [] and the character's position, starting from 0.\n",
        "\n",
        "Example:\n"
      ],
      "metadata": {
        "id": "Hv7rGrxqrtDk"
      }
    },
    {
      "cell_type": "code",
      "source": [
        "my_string = \"Python\"\n",
        "print(\"Using positive indexes\")\n",
        "print(my_string[0])  # Output: P\n",
        "print(my_string[3])  # Output: h\n",
        "\n",
        "print()\n",
        "\n",
        "print(\"Using negative indexes\")\n",
        "print(my_string[-1])  # Output: n\n",
        "print(my_string[-4])  # Output: t\n"
      ],
      "metadata": {
        "colab": {
          "base_uri": "https://localhost:8080/"
        },
        "id": "_SKp_j2arbch",
        "outputId": "26ba2d9e-1954-4dad-e448-c30f1bd1412b"
      },
      "execution_count": null,
      "outputs": [
        {
          "output_type": "stream",
          "name": "stdout",
          "text": [
            "Using positive indexes\n",
            "P\n",
            "h\n",
            "\n",
            "Using negative indexes\n",
            "n\n",
            "t\n"
          ]
        }
      ]
    },
    {
      "cell_type": "markdown",
      "source": [
        "#### **Slicing a string**\n",
        "\n",
        "To extract a portion (or \"slice\") of a string, you use **slicing** with square brackets `[]` and specify a `start` and `end` index (like `[start:end]`), where the character at the `end` index is **excluded**.\n",
        "\n",
        "**Example:**"
      ],
      "metadata": {
        "id": "jAFyGKkhtX66"
      }
    },
    {
      "cell_type": "code",
      "source": [
        "my_string = \"Challenge\"\n",
        "print(my_string[2:5])  # Output: `all` (characters at index 2, 3, and 4)"
      ],
      "metadata": {
        "colab": {
          "base_uri": "https://localhost:8080/"
        },
        "id": "z7VOacPntRmd",
        "outputId": "e4ba7cfb-5042-469c-d823-b58e68edb92d"
      },
      "execution_count": null,
      "outputs": [
        {
          "output_type": "stream",
          "name": "stdout",
          "text": [
            "all\n"
          ]
        }
      ]
    },
    {
      "cell_type": "code",
      "source": [
        "my_string = \"Challenge\"\n",
        "print(my_string[-3: -1])  # Output: `all` (characters at index 2, 3, and 4)"
      ],
      "metadata": {
        "colab": {
          "base_uri": "https://localhost:8080/"
        },
        "id": "MHCUsSZ2vPF_",
        "outputId": "077d28ca-35ec-4bba-fed4-1d9365cc405c"
      },
      "execution_count": null,
      "outputs": [
        {
          "output_type": "stream",
          "name": "stdout",
          "text": [
            "ng\n"
          ]
        }
      ]
    },
    {
      "cell_type": "markdown",
      "source": [
        "Whenever we don't specify the start index when slicing python uses 0 as the start and whenever we don't specify the end index python uses -1 by default\n",
        "\n",
        "**Example** :"
      ],
      "metadata": {
        "id": "XpXuSY4cvfZY"
      }
    },
    {
      "cell_type": "code",
      "source": [
        "my_string = \"Challenge\"\n",
        "print(my_string[:5])  # Output: the first five characters\n",
        "print(my_string[2:])  # Output: from index 2 to -1 (remember excluding -1)"
      ],
      "metadata": {
        "colab": {
          "base_uri": "https://localhost:8080/"
        },
        "id": "Zq60mN3IvtfM",
        "outputId": "e63d4c0e-b493-4ca9-92ba-16fe7ef60c61"
      },
      "execution_count": null,
      "outputs": [
        {
          "output_type": "stream",
          "name": "stdout",
          "text": [
            "Chall\n",
            "allenge\n"
          ]
        }
      ]
    },
    {
      "cell_type": "markdown",
      "source": [
        "we can save this slices into new variable to get a new string"
      ],
      "metadata": {
        "id": "QS2u-S1Itrs-"
      }
    },
    {
      "cell_type": "code",
      "source": [
        "my_string = \"Challenge\"\n",
        "var_string = my_string[2:5]\n",
        "print(var_string)"
      ],
      "metadata": {
        "colab": {
          "base_uri": "https://localhost:8080/"
        },
        "id": "mMhSaL_etpZN",
        "outputId": "9b8898bf-0dd5-4908-877d-d380bf9cc594"
      },
      "execution_count": null,
      "outputs": [
        {
          "output_type": "stream",
          "name": "stdout",
          "text": [
            "all\n"
          ]
        }
      ]
    },
    {
      "cell_type": "markdown",
      "source": [
        "Note: Modifying a slice of a string will not modify the original string"
      ],
      "metadata": {
        "id": "ixu9tXdB0F7g"
      }
    },
    {
      "cell_type": "markdown",
      "source": [
        "#### **Concatenation and repitition**"
      ],
      "metadata": {
        "id": "8VY60I_Yt7Du"
      }
    },
    {
      "cell_type": "code",
      "source": [
        "# Concatenation\n",
        "print(\"Ab\" + \"bA\")\n",
        "\n",
        "# Repitiion\n",
        "print(\"Hi\"*8)"
      ],
      "metadata": {
        "colab": {
          "base_uri": "https://localhost:8080/"
        },
        "id": "2gH0BRm-tzxg",
        "outputId": "e666a282-0721-418e-d7bb-38e492fe8dec"
      },
      "execution_count": null,
      "outputs": [
        {
          "output_type": "stream",
          "name": "stdout",
          "text": [
            "AbbA\n",
            "HiHiHiHiHiHiHiHi\n"
          ]
        }
      ]
    },
    {
      "cell_type": "markdown",
      "source": [
        "#### **Getting the length of a string**\n",
        "\n",
        "To get then the length of a string we use the length function"
      ],
      "metadata": {
        "id": "GfVKQsF6uLc-"
      }
    },
    {
      "cell_type": "code",
      "source": [
        "var_string = \"Python\"\n",
        "print(len(var_string))"
      ],
      "metadata": {
        "colab": {
          "base_uri": "https://localhost:8080/"
        },
        "id": "jTrMbHcxuJG1",
        "outputId": "4223096a-3878-48c6-85de-e488f82e85e2"
      },
      "execution_count": null,
      "outputs": [
        {
          "output_type": "stream",
          "name": "stdout",
          "text": [
            "6\n"
          ]
        }
      ]
    },
    {
      "cell_type": "markdown",
      "source": [
        "#### **Bare Slicing**\n",
        "\n",
        "To create a copy of a string we can slice the entire string this is called `Bare slicing`"
      ],
      "metadata": {
        "id": "8gTMrgeUwKgF"
      }
    },
    {
      "cell_type": "code",
      "source": [
        "my_string = \"Challenge\"\n",
        "\n",
        "my_string_copy = my_string[:]\n",
        "\n",
        "print(my_string_copy)"
      ],
      "metadata": {
        "colab": {
          "base_uri": "https://localhost:8080/"
        },
        "id": "cE1VTmJtubeG",
        "outputId": "0a365dcc-3a4a-4587-f5b3-ae16c5fd96cd"
      },
      "execution_count": null,
      "outputs": [
        {
          "output_type": "stream",
          "name": "stdout",
          "text": [
            "Challenge\n"
          ]
        }
      ]
    },
    {
      "cell_type": "markdown",
      "source": [
        "#### **Formated strings (f-strings)**\n",
        "\n",
        "Formatted String Literals, commonly called f-strings, provide a concise and readable way to embed Python variables or expressions inside string literals. Introduced in Python 3.6, and they are the most recommended way to format strings.\n",
        "\n",
        "How to use them:\n",
        "You create an f-string by prefixing a string literal with the letter f . Inside the string, you can place Python expressions within curly braces {}. These expressions will be evaluated at runtime (meaning as the code run) and their results will be embedded directly into the string.\n"
      ],
      "metadata": {
        "id": "mTiW26j7y7Ij"
      }
    },
    {
      "cell_type": "code",
      "source": [
        "name = \"Alice\"\n",
        "age = 30\n",
        "message = f\"Hello, my name is {name} and I am {age} years old.\"\n",
        "print(message)\n",
        "# Output: Hello, my name is Alice and I am 30 years old."
      ],
      "metadata": {
        "colab": {
          "base_uri": "https://localhost:8080/"
        },
        "id": "_kuPfvovznQb",
        "outputId": "8d92d4af-71b4-43d8-cad0-1cedf2126369"
      },
      "execution_count": null,
      "outputs": [
        {
          "output_type": "stream",
          "name": "stdout",
          "text": [
            "Hello, my name is Alice and I am 30 years old.\n"
          ]
        }
      ]
    },
    {
      "cell_type": "code",
      "source": [
        "num1 = 10\n",
        "num2 = 5\n",
        "result = f\"The sum of {num1} and {num2} is {num1 + num2}.\"\n",
        "print(result)\n",
        "# Output: The sum of 10 and 5 is 15."
      ],
      "metadata": {
        "colab": {
          "base_uri": "https://localhost:8080/"
        },
        "id": "qZb095Vezvv5",
        "outputId": "052d469b-4253-44ee-cae6-78e1be5ed638"
      },
      "execution_count": null,
      "outputs": [
        {
          "output_type": "stream",
          "name": "stdout",
          "text": [
            "The sum of 10 and 5 is 15.\n"
          ]
        }
      ]
    },
    {
      "cell_type": "markdown",
      "source": [
        "#### **Strings are immutable**\n",
        "**Mutable** object are object that can be modified, while immutable objects can not be modified. Strings are immutable and other primitive datatype we discussed like `int`, `float` etc are also immutable. You might think but we can change their types, well yes but changing a variable type doesn't change the `int`, `float` or `string` object. it just assigns the variable to a new object.\n",
        "\n",
        "we cannot modify any element, part or character of a string since it is immutable.\n",
        "\n",
        "if we try to mutate a string we would get an error.\n",
        "\n",
        "**Example:**"
      ],
      "metadata": {
        "id": "i5b6kl5fw6l0"
      }
    },
    {
      "cell_type": "code",
      "source": [
        "s = \"Hello\"\n",
        "s[0] = 's'\n"
      ],
      "metadata": {
        "colab": {
          "base_uri": "https://localhost:8080/",
          "height": 159
        },
        "id": "w0ApNl-ZwqLj",
        "outputId": "6b79a822-d2d5-4b33-a946-44621cfa4d02"
      },
      "execution_count": null,
      "outputs": [
        {
          "output_type": "error",
          "ename": "TypeError",
          "evalue": "'str' object does not support item assignment",
          "traceback": [
            "\u001b[0;31m---------------------------------------------------------------------------\u001b[0m",
            "\u001b[0;31mTypeError\u001b[0m                                 Traceback (most recent call last)",
            "\u001b[0;32m/tmp/ipython-input-19-58154354.py\u001b[0m in \u001b[0;36m<cell line: 0>\u001b[0;34m()\u001b[0m\n\u001b[1;32m      1\u001b[0m \u001b[0ms\u001b[0m \u001b[0;34m=\u001b[0m \u001b[0;34m\"Hello\"\u001b[0m\u001b[0;34m\u001b[0m\u001b[0;34m\u001b[0m\u001b[0m\n\u001b[0;32m----> 2\u001b[0;31m \u001b[0ms\u001b[0m\u001b[0;34m[\u001b[0m\u001b[0;36m0\u001b[0m\u001b[0;34m]\u001b[0m \u001b[0;34m=\u001b[0m \u001b[0;34m's'\u001b[0m\u001b[0;34m\u001b[0m\u001b[0;34m\u001b[0m\u001b[0m\n\u001b[0m",
            "\u001b[0;31mTypeError\u001b[0m: 'str' object does not support item assignment"
          ]
        }
      ]
    },
    {
      "cell_type": "markdown",
      "source": [
        "#### **Looping over a String (Transversing a String)**\n",
        "\n",
        "we can use  for loop to transverse string in two ways:\n",
        "\n",
        "\n",
        "1.   using range\n",
        "\n",
        "2.   using in-operator\n",
        "\n",
        "\n"
      ],
      "metadata": {
        "id": "8gwZ0jKyyDit"
      }
    },
    {
      "cell_type": "code",
      "source": [
        "s = \"Helloe\""
      ],
      "metadata": {
        "id": "3opxIsbSx64a"
      },
      "execution_count": null,
      "outputs": []
    },
    {
      "cell_type": "code",
      "source": [
        "# Using range\n",
        "\n",
        "for i in range(len(s)):\n",
        "    print(s[i])\n"
      ],
      "metadata": {
        "colab": {
          "base_uri": "https://localhost:8080/"
        },
        "id": "lQO9CFrRyUhA",
        "outputId": "679b1d26-094b-4efd-821f-c8a334423f4c"
      },
      "execution_count": null,
      "outputs": [
        {
          "output_type": "stream",
          "name": "stdout",
          "text": [
            "H\n",
            "e\n",
            "l\n",
            "l\n",
            "o\n",
            "e\n"
          ]
        }
      ]
    },
    {
      "cell_type": "markdown",
      "source": [
        "To get  a clearer picture of what just happened above, run the below cell to see:"
      ],
      "metadata": {
        "id": "TPjEimhZyeDQ"
      }
    },
    {
      "cell_type": "code",
      "source": [
        "# using inplcae operator\n",
        "for i in range(len(s)):\n",
        "    print(f\"Currently at index {i} is {s[i]}\")\n"
      ],
      "metadata": {
        "colab": {
          "base_uri": "https://localhost:8080/"
        },
        "id": "VyK4lDEvym4I",
        "outputId": "f17096ae-ca1b-4563-ace8-87514276c6ab"
      },
      "execution_count": null,
      "outputs": [
        {
          "output_type": "stream",
          "name": "stdout",
          "text": [
            "Currently at index 0 is H\n",
            "Currently at index 1 is e\n",
            "Currently at index 2 is l\n",
            "Currently at index 3 is l\n",
            "Currently at index 4 is o\n",
            "Currently at index 5 is e\n"
          ]
        }
      ]
    },
    {
      "cell_type": "code",
      "source": [
        "# using inplcae operator\n",
        "\n",
        "for each in s:\n",
        "    print(each)\n"
      ],
      "metadata": {
        "colab": {
          "base_uri": "https://localhost:8080/"
        },
        "id": "C9VZ3p5SyWvN",
        "outputId": "3c338dce-2e3f-47a1-b207-3731bfa397b9"
      },
      "execution_count": null,
      "outputs": [
        {
          "output_type": "stream",
          "name": "stdout",
          "text": [
            "H\n",
            "e\n",
            "l\n",
            "l\n",
            "o\n",
            "e\n"
          ]
        }
      ]
    },
    {
      "cell_type": "markdown",
      "source": [
        "#### **Building a string: A trickier example**\n",
        "\n",
        "we can construct a new string from another string using a for loop just like in teh example bello"
      ],
      "metadata": {
        "id": "snHUv-tPKEEH"
      }
    },
    {
      "cell_type": "code",
      "source": [
        "y = \"Rhino\"\n",
        "result = \"\"\n",
        "for each in y:\n",
        "  result += each*2\n",
        "\n",
        "print(result)"
      ],
      "metadata": {
        "colab": {
          "base_uri": "https://localhost:8080/"
        },
        "id": "iLi3CpkWKUbl",
        "outputId": "b3d99b44-1e39-4ef2-f4b0-0fc30d5639b6"
      },
      "execution_count": null,
      "outputs": [
        {
          "output_type": "stream",
          "name": "stdout",
          "text": [
            "RRhhiinnoo\n"
          ]
        }
      ]
    },
    {
      "cell_type": "markdown",
      "source": [
        "#### **String Methods**\n",
        "\n",
        "Python strings come with a powerful set of built-in methods (functions) that allow you to perform common operations like changing case, searching for text, splitting parts, or checking content. Remember, since strings are immutable, these methods don't change the original string; they return a new string with the modifications. Let's explore some of the most important ones!\n",
        "\n",
        "\n",
        "\n",
        "\n",
        "| Method                 | Explanation                                                                                                                                              |\n",
        "| :--------------------- | :------------------------------------------------------------------------------------------------------------------------------------------------------- |\n",
        "| `str.lower()`          | Returns a copy of the string with all cased characters converted to lowercase.                                                                         |\n",
        "| `str.upper()`          | Returns a copy of the string with all cased characters converted to uppercase.                                                                         |\n",
        "| `str.capitalize()`     | Returns a copy of the string with its first character capitalized and the rest lowercased.                                                               |\n",
        "| `str.title()`          | Returns a titlecased version of the string, where the first letter of each word is capitalized.                                                          |\n",
        "| `str.strip()`          | Returns a copy of the string with leading and trailing whitespace (or specified characters) removed.                                                     |\n",
        "| `str.lstrip()`         | Returns a copy of the string with leading (left) whitespace (or specified characters) removed.                                                           |\n",
        "| `str.rstrip()`         | Returns a copy of the string with trailing (right) whitespace (or specified characters) removed.                                                         |\n",
        "| `str.replace(old, new)`| Returns a copy of the string with all occurrences of `old` substring replaced by `new` substring.                                                        |\n",
        "| `str.split(sep=None)`  | Splits the string by the specified separator (`sep`) into a list of substrings. If `sep` is None, splits by whitespace.                                |\n",
        "| `str.join(iterable)`   | Concatenates the elements of an iterable (e.g., list of strings) into a single string, using the string itself as a separator.                           |\n",
        "| `str.find(sub)`        | Returns the lowest index in the string where substring `sub` is found. Returns `-1` if not found.                                                        |\n",
        "| `str.count(sub)`       | Returns the number of non-overlapping occurrences of substring `sub` in the string.                                                                    |\n",
        "| `str.startswith(prefix)`| Returns `True` if the string starts with the specified `prefix`, otherwise `False`.                                                                    |\n",
        "| `str.endswith(suffix)` | Returns `True` if the string ends with the specified `suffix`, otherwise `False`.                                                                      |\n",
        "| `str.isalpha()`        | Returns `True` if all characters in the string are alphabetic (letters) and there is at least one character, `False` otherwise.                          |\n",
        "| `str.isdigit()`        | Returns `True` if all characters in the string are digits (0-9) and there is at least one character, `False` otherwise.                                |\n",
        "| `str.isnumeric()`      | Returns `True` if all characters in the string are numeric characters (digits, superscripts, vulgar fractions etc.) and there is at least one character, `False` otherwise. (Often broader than `isdigit()`). |\n",
        "| `str.isalnum()`        | Returns `True` if all characters in the string are alphanumeric (letters or numbers) and there is at least one character, `False` otherwise.             |\n",
        "| `str.isspace()`        | Returns `True` if all characters in the string are whitespace characters and there is at least one character, `False` otherwise.                         |\n",
        "| `str.partition(sep)`   | Splits the string at the *first* occurrence of `sep`, returning a 3-tuple: (part before separator, separator, part after separator).                   |"
      ],
      "metadata": {
        "id": "58HlaDEI1Cqu"
      }
    },
    {
      "cell_type": "markdown",
      "source": [
        "Examples:"
      ],
      "metadata": {
        "id": "eiPCpzyB1eHk"
      }
    },
    {
      "cell_type": "code",
      "source": [
        "# --- Initial Variable Definitions for Examples ---\n",
        "text_with_spaces = \"   Python Programming   \"\n",
        "sentence = \"Python is a great language.\"\n",
        "data_line = \"apple,banana,orange\"\n",
        "word_list = [\"hello\", \"world\", \"python\"]\n",
        "sentence_to_search = \"Learning Python is fun. Python is versatile.\"\n",
        "number_string = \"12345\"\n",
        "letter_string = \"HelloWorld\"\n",
        "mixed_content = \"Python3\"\n"
      ],
      "metadata": {
        "id": "zXp9Gppq1smj"
      },
      "execution_count": null,
      "outputs": []
    },
    {
      "cell_type": "code",
      "source": [
        "### str.lower()\n",
        "\n",
        "print(f\"Original: '{text_with_spaces}'\")\n",
        "print(f\"Lowercase: '{text_with_spaces.lower()}'\\n\")\n"
      ],
      "metadata": {
        "colab": {
          "base_uri": "https://localhost:8080/"
        },
        "id": "YkGQj-BG2MVh",
        "outputId": "41eade96-27ce-4927-e0df-a7b033806c6d"
      },
      "execution_count": null,
      "outputs": [
        {
          "output_type": "stream",
          "name": "stdout",
          "text": [
            "Original: '   Python Programming   '\n",
            "Lowercase: '   python programming   '\n",
            "\n"
          ]
        }
      ]
    },
    {
      "cell_type": "code",
      "source": [
        "### str.upper()\n",
        "\n",
        "print(f\"Original: '{sentence}'\")\n",
        "print(f\"Uppercase: '{sentence.upper()}'\\n\")"
      ],
      "metadata": {
        "colab": {
          "base_uri": "https://localhost:8080/"
        },
        "id": "u7mfd-Vc2mu-",
        "outputId": "78d475c0-2f48-4929-95d3-aa72c96b6753"
      },
      "execution_count": null,
      "outputs": [
        {
          "output_type": "stream",
          "name": "stdout",
          "text": [
            "Original: 'Python is a great language.'\n",
            "Uppercase: 'PYTHON IS A GREAT LANGUAGE.'\n",
            "\n"
          ]
        }
      ]
    },
    {
      "cell_type": "code",
      "source": [
        "### str.strip()\n",
        "\n",
        "print(f\"Original: '{text_with_spaces}'\")\n",
        "print(f\"Stripped: '{text_with_spaces.strip()}'\\n\")"
      ],
      "metadata": {
        "colab": {
          "base_uri": "https://localhost:8080/"
        },
        "id": "5HQzNN622uCF",
        "outputId": "59dd91c3-1cfa-476c-f513-396bb34fbc6e"
      },
      "execution_count": null,
      "outputs": [
        {
          "output_type": "stream",
          "name": "stdout",
          "text": [
            "Original: '   Python Programming   '\n",
            "Stripped: 'Python Programming'\n",
            "\n"
          ]
        }
      ]
    },
    {
      "cell_type": "code",
      "source": [
        "### str.replace(old, new)\n",
        "\n",
        "print(f\"Original: '{sentence}'\")\n",
        "print(f\"Replaced 'Python' with 'Java': '{sentence.replace('Python', 'Java')}'\")\n",
        "print(f\"Replaced all 'a' with '@': '{'banana'.replace('a', '@')}'\\n\") # Example with multiple replacements"
      ],
      "metadata": {
        "colab": {
          "base_uri": "https://localhost:8080/"
        },
        "id": "Bn03R2Gd20CC",
        "outputId": "b14a88f4-c9cd-4de4-cfd6-015df9c23dbe"
      },
      "execution_count": null,
      "outputs": [
        {
          "output_type": "stream",
          "name": "stdout",
          "text": [
            "Original: 'Python is a great language.'\n",
            "Replaced 'Python' with 'Java': 'Java is a great language.'\n",
            "Replaced all 'a' with '@': 'b@n@n@'\n",
            "\n"
          ]
        }
      ]
    },
    {
      "cell_type": "code",
      "source": [
        "### str.split(sep=None)\n",
        "\n",
        "print(f\"Original: '{data_line}'\")\n",
        "items = data_line.split(',')\n",
        "print(f\"Split by comma: {items}\")\n",
        "print(f\"Original: '{text_with_spaces.strip()}'\") # Use stripped version for clean words\n",
        "words = text_with_spaces.strip().split() # Splits by whitespace by default\n",
        "print(f\"Split by whitespace: {words}\\n\")\n",
        "\n"
      ],
      "metadata": {
        "colab": {
          "base_uri": "https://localhost:8080/",
          "height": 211
        },
        "id": "mypfOn4W224T",
        "outputId": "490858af-2fb9-486d-9f5e-b4d0272fb8cb"
      },
      "execution_count": 4,
      "outputs": [
        {
          "output_type": "error",
          "ename": "NameError",
          "evalue": "name 'data_line' is not defined",
          "traceback": [
            "\u001b[0;31m---------------------------------------------------------------------------\u001b[0m",
            "\u001b[0;31mNameError\u001b[0m                                 Traceback (most recent call last)",
            "\u001b[0;32m/tmp/ipython-input-4-3987880809.py\u001b[0m in \u001b[0;36m<cell line: 0>\u001b[0;34m()\u001b[0m\n\u001b[1;32m      1\u001b[0m \u001b[0;31m### str.split(sep=None)\u001b[0m\u001b[0;34m\u001b[0m\u001b[0;34m\u001b[0m\u001b[0m\n\u001b[1;32m      2\u001b[0m \u001b[0;34m\u001b[0m\u001b[0m\n\u001b[0;32m----> 3\u001b[0;31m \u001b[0mprint\u001b[0m\u001b[0;34m(\u001b[0m\u001b[0;34mf\"Original: '{data_line}'\"\u001b[0m\u001b[0;34m)\u001b[0m\u001b[0;34m\u001b[0m\u001b[0;34m\u001b[0m\u001b[0m\n\u001b[0m\u001b[1;32m      4\u001b[0m \u001b[0mitems\u001b[0m \u001b[0;34m=\u001b[0m \u001b[0mdata_line\u001b[0m\u001b[0;34m.\u001b[0m\u001b[0msplit\u001b[0m\u001b[0;34m(\u001b[0m\u001b[0;34m','\u001b[0m\u001b[0;34m)\u001b[0m\u001b[0;34m\u001b[0m\u001b[0;34m\u001b[0m\u001b[0m\n\u001b[1;32m      5\u001b[0m \u001b[0mprint\u001b[0m\u001b[0;34m(\u001b[0m\u001b[0;34mf\"Split by comma: {items}\"\u001b[0m\u001b[0;34m)\u001b[0m\u001b[0;34m\u001b[0m\u001b[0;34m\u001b[0m\u001b[0m\n",
            "\u001b[0;31mNameError\u001b[0m: name 'data_line' is not defined"
          ]
        }
      ]
    },
    {
      "cell_type": "code",
      "source": [
        "### str.join(iterable)\n",
        "\n",
        "print(f\"Original list: {word_list}\")\n",
        "print(f\"Joined with space: {' '.join(word_list)}\")\n",
        "print(f\"Joined with underscore: {'_'.join(word_list)}\\n\")"
      ],
      "metadata": {
        "colab": {
          "base_uri": "https://localhost:8080/"
        },
        "id": "TSarP3RF26cm",
        "outputId": "3ffc5ca7-bbb4-492a-e979-f4dba924cfb3"
      },
      "execution_count": null,
      "outputs": [
        {
          "output_type": "stream",
          "name": "stdout",
          "text": [
            "Original list: ['hello', 'world', 'python']\n",
            "Joined with space: hello world python\n",
            "Joined with underscore: hello_world_python\n",
            "\n"
          ]
        }
      ]
    },
    {
      "cell_type": "code",
      "source": [
        "### str.find(sub)\n",
        "\n",
        "print(f\"Original: '{sentence_to_search}'\")\n",
        "print(f\"First index of 'Python': {sentence_to_search.find('Python')}\")\n",
        "print(f\"First index of 'java' (not found): {sentence_to_search.find('java')}\\n\")"
      ],
      "metadata": {
        "colab": {
          "base_uri": "https://localhost:8080/"
        },
        "id": "iKxxDc883D55",
        "outputId": "79febe5a-e157-4ae5-e9ec-2f7a68aee380"
      },
      "execution_count": null,
      "outputs": [
        {
          "output_type": "stream",
          "name": "stdout",
          "text": [
            "Original: 'Learning Python is fun. Python is versatile.'\n",
            "First index of 'Python': 9\n",
            "First index of 'java' (not found): -1\n",
            "\n"
          ]
        }
      ]
    },
    {
      "cell_type": "code",
      "source": [
        "### str.startswith(prefix)\n",
        "\n",
        "print(f\"Does '{sentence}' start with 'Python'? {sentence.startswith('Python')}\")\n",
        "print(f\"Does '{sentence}' start with 'learning'? {sentence.startswith('learning')}\\n\")"
      ],
      "metadata": {
        "colab": {
          "base_uri": "https://localhost:8080/"
        },
        "id": "KtDJgyZr3G5I",
        "outputId": "bfc170f5-d6de-46d8-c8bb-8411a8a5d14a"
      },
      "execution_count": null,
      "outputs": [
        {
          "output_type": "stream",
          "name": "stdout",
          "text": [
            "Does 'Python is a great language.' start with 'Python'? True\n",
            "Does 'Python is a great language.' start with 'learning'? False\n",
            "\n"
          ]
        }
      ]
    },
    {
      "cell_type": "code",
      "source": [
        "### str.isalpha()\n",
        "\n",
        "print(f\"'{letter_string}'.isalpha(): {letter_string.isalpha()}\")\n",
        "print(f\"'{number_string}'.isalpha(): {number_string.isalpha()}\")\n",
        "print(f\"'{mixed_content}'.isalpha(): {mixed_content.isalpha()}\\n\") # False due to '3'"
      ],
      "metadata": {
        "colab": {
          "base_uri": "https://localhost:8080/"
        },
        "id": "O-lSlF5W3LYr",
        "outputId": "fc3b740a-8e49-4e76-f24d-82030ca3f52c"
      },
      "execution_count": null,
      "outputs": [
        {
          "output_type": "stream",
          "name": "stdout",
          "text": [
            "'HelloWorld'.isalpha(): True\n",
            "'12345'.isalpha(): False\n",
            "'Python3'.isalpha(): False\n",
            "\n"
          ]
        }
      ]
    },
    {
      "cell_type": "code",
      "source": [
        "### str.isdigit()\n",
        "\n",
        "print(f\"'{number_string}'.isdigit(): {number_string.isdigit()}\")\n",
        "print(f\"'{letter_string}'.isdigit(): {letter_string.isdigit()}\")\n",
        "print(f\"'{mixed_content}'.isdigit(): {mixed_content.isdigit()}\\n\") # False due to letters"
      ],
      "metadata": {
        "colab": {
          "base_uri": "https://localhost:8080/"
        },
        "id": "SOcIDnmD3O3C",
        "outputId": "e3b6f0d3-3246-4a2d-e43b-6b589e51a6d2"
      },
      "execution_count": null,
      "outputs": [
        {
          "output_type": "stream",
          "name": "stdout",
          "text": [
            "'12345'.isdigit(): True\n",
            "'HelloWorld'.isdigit(): False\n",
            "'Python3'.isdigit(): False\n",
            "\n"
          ]
        }
      ]
    },
    {
      "cell_type": "markdown",
      "source": [
        "That's all for Strings. Strings are very important, as they are how we handle textual data, which is a huge part of almost any program you'll ever write; from user input and messages to web content and file names. Mastering these methods will give you a powerful toolkit for manipulating and processing text effectively!"
      ],
      "metadata": {
        "id": "NELmvzf63VMa"
      }
    },
    {
      "cell_type": "markdown",
      "source": [
        "### **List**"
      ],
      "metadata": {
        "id": "GEIhrt4E4Rm3"
      }
    },
    {
      "cell_type": "markdown",
      "source": [
        "A **list** is an ordered, mutable collection of items. Think of it as a versatile container where you can store many different pieces of data could be numbers, strings, or even other lists all within a single variable. Lists are defined using square brackets [], with items separated by commas. They are incredibly useful for managing collections of related information in your programs.\n",
        "\n"
      ],
      "metadata": {
        "id": "7fSzL0AR4SBj"
      }
    },
    {
      "cell_type": "code",
      "source": [
        "# defining a list\n",
        "\n",
        "my_list = [\"Apples\", \"Bananas\", \"Chocolates\", \"Hats\"]\n",
        "print(my_list)"
      ],
      "metadata": {
        "colab": {
          "base_uri": "https://localhost:8080/"
        },
        "id": "JWDM4KaE3Rgb",
        "outputId": "d016e0f4-5fce-4d48-c255-52cf66604190"
      },
      "execution_count": null,
      "outputs": [
        {
          "output_type": "stream",
          "name": "stdout",
          "text": [
            "['Apples', 'Bananas', 'Chocolates', 'Hats']\n"
          ]
        }
      ]
    },
    {
      "cell_type": "markdown",
      "source": [
        "A list can hold different datatypes together"
      ],
      "metadata": {
        "id": "9zbYuiXp5BN5"
      }
    },
    {
      "cell_type": "code",
      "source": [
        "my_list = [\"Apples\", 4, 3.14]\n",
        "print(my_list)"
      ],
      "metadata": {
        "colab": {
          "base_uri": "https://localhost:8080/"
        },
        "id": "hp1PJand4_8d",
        "outputId": "055d8aea-d705-4252-966e-f70c22bad733"
      },
      "execution_count": null,
      "outputs": [
        {
          "output_type": "stream",
          "name": "stdout",
          "text": [
            "['Apples', 4, 3.14]\n"
          ]
        }
      ]
    },
    {
      "cell_type": "markdown",
      "source": [
        "#### **Nested Lists**\n",
        "\n",
        "A list can also hold other lists. Such lists are called nested lists\n",
        "\n"
      ],
      "metadata": {
        "id": "2x8GVRhE5NFo"
      }
    },
    {
      "cell_type": "code",
      "source": [
        "my_nested_list = [\n",
        "    [1, 2, 3],\n",
        "    ['a', 'b', 'c'],\n",
        "    [True, False]\n",
        "]\n",
        "\n",
        "print(my_nested_list)"
      ],
      "metadata": {
        "colab": {
          "base_uri": "https://localhost:8080/"
        },
        "id": "menaFKyR5LOc",
        "outputId": "ac919ea1-023d-471b-d1d1-c8b47cc3d34c"
      },
      "execution_count": null,
      "outputs": [
        {
          "output_type": "stream",
          "name": "stdout",
          "text": [
            "[[1, 2, 3], ['a', 'b', 'c'], [True, False]]\n"
          ]
        }
      ]
    },
    {
      "cell_type": "markdown",
      "source": [
        "#### **Indexing a List**\n",
        "\n",
        "This is similar to indexing a string\n",
        "\n"
      ],
      "metadata": {
        "id": "ce4hiZcx5t2N"
      }
    },
    {
      "cell_type": "code",
      "source": [
        "my_list = [\"Apples\", 4, 3.14]\n",
        "\n",
        "print(my_list[0])\n",
        "print(my_list[-1])"
      ],
      "metadata": {
        "colab": {
          "base_uri": "https://localhost:8080/"
        },
        "id": "x91jJqy75pSO",
        "outputId": "659e182b-8379-4ffb-f45e-d958d7a5b370"
      },
      "execution_count": null,
      "outputs": [
        {
          "output_type": "stream",
          "name": "stdout",
          "text": [
            "Apples\n",
            "3.14\n"
          ]
        }
      ]
    },
    {
      "cell_type": "markdown",
      "source": [
        "#### **Length of a list**\n",
        "\n",
        "we can also use `len()` to get the length of a list"
      ],
      "metadata": {
        "id": "08fIyifc6K0z"
      }
    },
    {
      "cell_type": "code",
      "source": [
        "my_list = [\"Apples\", 4, 3.14]\n",
        "print(len(my_list))"
      ],
      "metadata": {
        "colab": {
          "base_uri": "https://localhost:8080/"
        },
        "id": "KvxPfh7J6UMe",
        "outputId": "2b06aac4-5a13-45f4-ef25-0e23461f2daa"
      },
      "execution_count": null,
      "outputs": [
        {
          "output_type": "stream",
          "name": "stdout",
          "text": [
            "3\n"
          ]
        }
      ]
    },
    {
      "cell_type": "markdown",
      "source": [
        "#### **in Opertor**\n",
        "\n",
        "The in operator also works on a list.\n",
        "\n"
      ],
      "metadata": {
        "id": "geT81o9u6orv"
      }
    },
    {
      "cell_type": "code",
      "source": [
        "print(3 in [3, 4, 2])"
      ],
      "metadata": {
        "colab": {
          "base_uri": "https://localhost:8080/"
        },
        "id": "3vELt7wg6x_f",
        "outputId": "1c4990fc-45da-43ae-ef3c-15aa9ed8198e"
      },
      "execution_count": null,
      "outputs": [
        {
          "output_type": "stream",
          "name": "stdout",
          "text": [
            "True\n"
          ]
        }
      ]
    },
    {
      "cell_type": "markdown",
      "source": [
        "#### **Transversing a List**\n",
        "\n"
      ],
      "metadata": {
        "id": "-8FqlUqp6DyO"
      }
    },
    {
      "cell_type": "code",
      "source": [
        "# using range\n",
        "\n",
        "my_list = [\"Apples\", 4, 3.14]\n",
        "\n",
        "for i in range(len(my_list)):\n",
        "  print(my_list[i])"
      ],
      "metadata": {
        "colab": {
          "base_uri": "https://localhost:8080/"
        },
        "id": "g1mko_rm6ImR",
        "outputId": "8403fe47-59f5-475b-b84d-956f127d8cd8"
      },
      "execution_count": null,
      "outputs": [
        {
          "output_type": "stream",
          "name": "stdout",
          "text": [
            "Apples\n",
            "4\n",
            "3.14\n"
          ]
        }
      ]
    },
    {
      "cell_type": "code",
      "source": [
        "# using in operator]\n",
        "\n",
        "my_list = [\"Apples\", 4, 3.14]\n",
        "\n",
        "for each in my_list:\n",
        "  print(each)"
      ],
      "metadata": {
        "colab": {
          "base_uri": "https://localhost:8080/"
        },
        "id": "dBlxwgEz6f1C",
        "outputId": "d89b5c90-4b06-4f10-8875-d284ec64b848"
      },
      "execution_count": null,
      "outputs": [
        {
          "output_type": "stream",
          "name": "stdout",
          "text": [
            "Apples\n",
            "4\n",
            "3.14\n"
          ]
        }
      ]
    },
    {
      "cell_type": "markdown",
      "source": [
        "#### **List Methods**\n",
        "\n",
        "Just like strings, lists also come with their own set of built-in methods that allow you to easily manipulate their content. These methods are essential for performing common operations like adding new items, removing existing ones, reordering elements, and more. A crucial difference from string methods is that list methods often modify the original list directly (since lists are mutable), rather than returning a new list. Let's look at the most important ones!\n",
        "\n"
      ],
      "metadata": {
        "id": "cJVpcbdj6-Qa"
      }
    },
    {
      "cell_type": "markdown",
      "source": [
        "## Important List Methods\n",
        "\n",
        "| Method                  | Explanation                                                                                                                                                             |\n",
        "| :---------------------- | :---------------------------------------------------------------------------------------------------------------------------------------------------------------------- |\n",
        "| `list.append(item)`     | Adds a single `item` to the *end* of the list. Modifies the list in-place.                                                                                             |\n",
        "| `list.extend(iterable)` | Adds all items from an `iterable` (like another list, tuple, or string) to the *end* of the list. Modifies the list in-place.                                        |\n",
        "| `list.insert(index, item)`| Inserts an `item` at a specified `index` in the list. Items to the right are shifted. Modifies the list in-place.                                                     |\n",
        "| `list.remove(value)`    | Removes the *first* occurrence of the specified `value` from the list. Raises `ValueError` if the item is not found. Modifies the list in-place.                       |\n",
        "| `list.pop(index=-1)`    | Removes and returns the item at the given `index`. If no index is specified, removes and returns the last item. Modifies the list in-place.                             |\n",
        "| `list.clear()`          | Removes all items from the list, making it empty. Modifies the list in-place.                                                                                           |\n",
        "| `list.index(value)`     | Returns the index of the *first* occurrence of the specified `value` in the list. Raises `ValueError` if the item is not found.                                        |\n",
        "| `list.count(value)`     | Returns the number of times a specified `value` appears in the list.                                                                                                    |\n",
        "| `list.sort(key=None, reverse=False)` | Sorts the items of the list *in-place*. By default, sorts in ascending order. `reverse=True` for descending.                                                      |\n",
        "| `list.reverse()`        | Reverses the order of items in the list *in-place*.                                                                                                                     |\n",
        "| `list.copy()`           | Returns a *shallow copy* of the list. Changes to the new copy will not affect the original list (unless they contain mutable objects like nested lists).                 |\n",
        "| `len(list)` (Function)  | *While not a method*, `len()` is a very common built-in function used with lists to get the number of items in the list.                                              |"
      ],
      "metadata": {
        "id": "MPKOgmf07kA4"
      }
    },
    {
      "cell_type": "markdown",
      "source": [
        "**Examples:**"
      ],
      "metadata": {
        "id": "Hk3QVViW7xMP"
      }
    },
    {
      "cell_type": "code",
      "source": [
        "# --- Initial List Definitions for Examples ---\n",
        "\n",
        "my_list = [10, 20, 30, 40]\n",
        "fruits = [\"apple\", \"banana\", \"cherry\"]\n",
        "numbers = [5, 2, 8, 1, 9]\n",
        "mixed_data = [\"hello\", 1, True, \"world\"]\n",
        "original_list_for_copy = [1, 2, 3]"
      ],
      "metadata": {
        "id": "8EzqkKh87hHI"
      },
      "execution_count": null,
      "outputs": []
    },
    {
      "cell_type": "code",
      "source": [
        "### list.append(item)\n",
        "\n",
        "print(f\"Original list: {my_list}\")\n",
        "my_list.append(50)\n",
        "print(f\"After append(50): {my_list}\\n\")\n",
        "\n",
        "# Note: my_list is now [10, 20, 30, 40, 50]\n"
      ],
      "metadata": {
        "colab": {
          "base_uri": "https://localhost:8080/"
        },
        "id": "F3M7DhGL6msM",
        "outputId": "7839ff0b-4f7e-4eef-ba84-8b5e9f1c14ca"
      },
      "execution_count": null,
      "outputs": [
        {
          "output_type": "stream",
          "name": "stdout",
          "text": [
            "Original list: [10, 20, 30, 40]\n",
            "After append(50): [10, 20, 30, 40, 50]\n",
            "\n"
          ]
        }
      ]
    },
    {
      "cell_type": "code",
      "source": [
        "### list.extend(iterable)\n",
        "\n",
        "my_list = [10, 20, 30] # Reset for clear example\n",
        "new_items = [40, 50, 60]\n",
        "print(f\"Original list: {my_list}\")\n",
        "print(f\"Items to extend: {new_items}\")\n",
        "my_list.extend(new_items)\n",
        "print(f\"After extend({new_items}): {my_list}\\n\")\n",
        "\n",
        "# Note: my_list is now [10, 20, 30, 40, 50, 60]"
      ],
      "metadata": {
        "colab": {
          "base_uri": "https://localhost:8080/"
        },
        "id": "dv-cacXW8BhT",
        "outputId": "939dfda6-d4e2-4d6f-9b32-dadb2757ca43"
      },
      "execution_count": null,
      "outputs": [
        {
          "output_type": "stream",
          "name": "stdout",
          "text": [
            "Original list: [10, 20, 30]\n",
            "Items to extend: [40, 50, 60]\n",
            "After extend([40, 50, 60]): [10, 20, 30, 40, 50, 60]\n",
            "\n"
          ]
        }
      ]
    },
    {
      "cell_type": "code",
      "source": [
        "### list.insert(index, item)\n",
        "\n",
        "fruits = [\"apple\", \"cherry\"] # Reset\n",
        "print(f\"Original list: {fruits}\")\n",
        "fruits.insert(1, \"banana\") # Insert 'banana' at index 1\n",
        "print(f\"After insert(1, 'banana'): {fruits}\\n\")\n",
        "\n",
        "# Note: fruits is now [\"apple\", \"banana\", \"cherry\"]"
      ],
      "metadata": {
        "colab": {
          "base_uri": "https://localhost:8080/"
        },
        "id": "km3kHfrg8GsQ",
        "outputId": "092bb2a5-6683-4b97-9d2b-3ed6dba8213d"
      },
      "execution_count": null,
      "outputs": [
        {
          "output_type": "stream",
          "name": "stdout",
          "text": [
            "Original list: ['apple', 'cherry']\n",
            "After insert(1, 'banana'): ['apple', 'banana', 'cherry']\n",
            "\n"
          ]
        }
      ]
    },
    {
      "cell_type": "code",
      "source": [
        "### list.remove(value)\n",
        "\n",
        "my_list = [10, 20, 30, 20, 40] # Reset with duplicates\n",
        "print(f\"Original list: {my_list}\")\n",
        "my_list.remove(20) # Removes only the first occurrence\n",
        "print(f\"After remove(20): {my_list}\\n\")\n",
        "\n",
        "# Note: my_list is now [10, 30, 20, 40]"
      ],
      "metadata": {
        "colab": {
          "base_uri": "https://localhost:8080/"
        },
        "id": "IE1r6TFK8Lba",
        "outputId": "ef379a7d-dcb1-4117-ffa4-5ec857886a38"
      },
      "execution_count": null,
      "outputs": [
        {
          "output_type": "stream",
          "name": "stdout",
          "text": [
            "Original list: [10, 20, 30, 20, 40]\n",
            "After remove(20): [10, 30, 20, 40]\n",
            "\n"
          ]
        }
      ]
    },
    {
      "cell_type": "code",
      "source": [
        "### list.pop(index=-1)\n",
        "\n",
        "my_list = [10, 20, 30, 40] # Reset\n",
        "print(f\"Original list: {my_list}\")\n",
        "popped_item_last = my_list.pop() # Removes and returns the last item\n",
        "print(f\"Popped item (last): {popped_item_last}\")\n",
        "print(f\"List after pop(): {my_list}\")\n",
        "popped_item_index = my_list.pop(1) # Removes and returns item at index 1\n",
        "print(f\"Popped item (index 1): {popped_item_index}\")\n",
        "print(f\"List after pop(1): {my_list}\\n\")\n",
        "\n",
        "# Note: my_list is now [10, 40]"
      ],
      "metadata": {
        "colab": {
          "base_uri": "https://localhost:8080/"
        },
        "id": "IdA97H858VYo",
        "outputId": "f5301de3-08de-4e82-a295-1dd38c81009d"
      },
      "execution_count": null,
      "outputs": [
        {
          "output_type": "stream",
          "name": "stdout",
          "text": [
            "Original list: [10, 20, 30, 40]\n",
            "Popped item (last): 40\n",
            "List after pop(): [10, 20, 30]\n",
            "Popped item (index 1): 20\n",
            "List after pop(1): [10, 30]\n",
            "\n"
          ]
        }
      ]
    },
    {
      "cell_type": "code",
      "source": [
        "### list.clear()\n",
        "\n",
        "my_list = [1, 2, 3, 4] # Reset\n",
        "print(f\"Original list: {my_list}\")\n",
        "my_list.clear()\n",
        "print(f\"After clear(): {my_list}\\n\")\n",
        "\n",
        "# Note: my_list is now []"
      ],
      "metadata": {
        "colab": {
          "base_uri": "https://localhost:8080/"
        },
        "id": "wqf1ypOS8cIY",
        "outputId": "703e298e-e30b-4ba3-9350-22553f3bbdf8"
      },
      "execution_count": null,
      "outputs": [
        {
          "output_type": "stream",
          "name": "stdout",
          "text": [
            "Original list: [1, 2, 3, 4]\n",
            "After clear(): []\n",
            "\n"
          ]
        }
      ]
    },
    {
      "cell_type": "code",
      "source": [
        "### list.index(value)\n",
        "\n",
        "fruits = [\"apple\", \"banana\", \"cherry\", \"banana\"] # Reset with duplicates\n",
        "print(f\"List: {fruits}\")\n",
        "index_banana = fruits.index(\"banana\") # Returns first occurrence\n",
        "print(f\"Index of 'banana': {index_banana}\")\n",
        "# print(fruits.index(\"grape\")) # Uncomment to see ValueError if item not found"
      ],
      "metadata": {
        "colab": {
          "base_uri": "https://localhost:8080/"
        },
        "id": "8NaLC4fn8nUV",
        "outputId": "f03ad5fd-5e91-4460-eeb4-e0606bc3b86d"
      },
      "execution_count": null,
      "outputs": [
        {
          "output_type": "stream",
          "name": "stdout",
          "text": [
            "List: ['apple', 'banana', 'cherry', 'banana']\n",
            "Index of 'banana': 1\n"
          ]
        }
      ]
    },
    {
      "cell_type": "code",
      "source": [
        "### list.count(value)\n",
        "\n",
        "fruits = [\"apple\", \"banana\", \"cherry\", \"banana\", \"apple\"] # Reset\n",
        "print(f\"List: {fruits}\")\n",
        "count_apple = fruits.count(\"apple\")\n",
        "print(f\"Count of 'apple': {count_apple}\")\n",
        "count_banana = fruits.count(\"banana\")\n",
        "print(f\"Count of 'banana': {count_banana}\")\n",
        "count_grape = fruits.count(\"grape\")\n",
        "print(f\"Count of 'grape': {count_grape}\\n\")\n"
      ],
      "metadata": {
        "colab": {
          "base_uri": "https://localhost:8080/"
        },
        "id": "jmJQAMl-8tXE",
        "outputId": "8cb4470a-9ef8-4681-d977-2730faa46e4f"
      },
      "execution_count": null,
      "outputs": [
        {
          "output_type": "stream",
          "name": "stdout",
          "text": [
            "List: ['apple', 'banana', 'cherry', 'banana', 'apple']\n",
            "Count of 'apple': 2\n",
            "Count of 'banana': 2\n",
            "Count of 'grape': 0\n",
            "\n"
          ]
        }
      ]
    },
    {
      "cell_type": "code",
      "source": [
        "### list.sort()\n",
        "\n",
        "numbers = [5, 2, 8, 1, 9] # Reset\n",
        "print(f\"Original list: {numbers}\")\n",
        "numbers.sort() # Sorts in-place, ascending by default\n",
        "print(f\"After sort() (ascending): {numbers}\")\n",
        "numbers_desc = [5, 2, 8, 1, 9] # Reset for descending\n",
        "numbers_desc.sort(reverse=True)\n",
        "print(f\"After sort(reverse=True) (descending): {numbers_desc}\\n\")\n",
        "\n",
        "# Note: numbers and numbers_desc are modified in-place (meaning no copy of the list was made)"
      ],
      "metadata": {
        "colab": {
          "base_uri": "https://localhost:8080/"
        },
        "id": "LHwD26sM83GF",
        "outputId": "b699316f-9ee7-49f1-a24e-2d2089fa7c46"
      },
      "execution_count": null,
      "outputs": [
        {
          "output_type": "stream",
          "name": "stdout",
          "text": [
            "Original list: [5, 2, 8, 1, 9]\n",
            "After sort() (ascending): [1, 2, 5, 8, 9]\n",
            "After sort(reverse=True) (descending): [9, 8, 5, 2, 1]\n",
            "\n"
          ]
        }
      ]
    },
    {
      "cell_type": "code",
      "source": [
        "### list.reverse()\n",
        "\n",
        "numbers = [1, 2, 3, 4, 5] # Reset\n",
        "print(f\"Original list: {numbers}\")\n",
        "numbers.reverse() # Reverses in-place\n",
        "print(f\"After reverse(): {numbers}\\n\")\n",
        "\n",
        "# Note: numbers is now [5, 4, 3, 2, 1]\n"
      ],
      "metadata": {
        "colab": {
          "base_uri": "https://localhost:8080/"
        },
        "id": "tGufwqyX8_jr",
        "outputId": "db3b4280-1131-474d-c717-c7f7b9f78333"
      },
      "execution_count": null,
      "outputs": [
        {
          "output_type": "stream",
          "name": "stdout",
          "text": [
            "Original list: [1, 2, 3, 4, 5]\n",
            "After reverse(): [5, 4, 3, 2, 1]\n",
            "\n"
          ]
        }
      ]
    },
    {
      "cell_type": "code",
      "source": [
        "### list.copy()\n",
        "\n",
        "original_list_for_copy = [1, 2, 3] # Reset\n",
        "copied_list = original_list_for_copy.copy()\n",
        "print(f\"Original list: {original_list_for_copy}\")\n",
        "print(f\"Copied list: {copied_list}\")\n",
        "\n",
        "# Modify the copy, original remains unchanged\n",
        "copied_list.append(4)\n",
        "\n",
        "print(f\"Original list after modifying copy: {original_list_for_copy}\")\n",
        "print(f\"Copied list after modifying: {copied_list}\\n\")"
      ],
      "metadata": {
        "colab": {
          "base_uri": "https://localhost:8080/"
        },
        "id": "jr89WODN9IVf",
        "outputId": "6ee480bb-96da-47ee-a498-7a7a90e677c4"
      },
      "execution_count": null,
      "outputs": [
        {
          "output_type": "stream",
          "name": "stdout",
          "text": [
            "Original list: [1, 2, 3]\n",
            "Copied list: [1, 2, 3]\n",
            "Original list after modifying copy: [1, 2, 3]\n",
            "Copied list after modifying: [1, 2, 3, 4]\n",
            "\n"
          ]
        }
      ]
    },
    {
      "cell_type": "markdown",
      "source": [
        "# **Tasks**"
      ],
      "metadata": {
        "id": "EDhOpwLm_rpK"
      }
    },
    {
      "cell_type": "markdown",
      "source": [
        "0. Save a copy of this notebook in drive by clicking `File` in the taskbar above and selecting `Save a copy in Drive`.\n",
        "You'll be promted to open the notebook in new tab. Open this notebook and click on the previous name(i.e Python_Basics_(ECX).IPYNB) and rename as \"[YOUR_NAME]_original_file_name\" i.e \"Peter_Pan_Python_Basics_(ECX).ipynb\"\n",
        "\n",
        "  In the copy notebook you made for yourself. Navigate to the tasks and write your code solution. Afterwards follow [Submission Guidelines ](https://docs.google.com/document/d/135j-r7NwRbjpIlfy9F_5-pxbYiRsic4qSavpILak5Mk/edit?usp=sharing) to submit."
      ],
      "metadata": {
        "id": "8BFdCfLQMCW7"
      }
    },
    {
      "cell_type": "markdown",
      "source": [
        "### **Strings**"
      ],
      "metadata": {
        "id": "IzN-aFC2LOOL"
      }
    },
    {
      "cell_type": "markdown",
      "source": [
        "1. Write a program that asks the user to enter a string. The program should then print the following:\n",
        "\n",
        "  (a) The total number of characters in the string\n",
        "\n",
        "  (b) The string repeated 10 times\n",
        "\n",
        "  (c) The first character of the string (remember that string indices start at 0)\n",
        "\n",
        "  (d) The first three characters of the string\n",
        "\n",
        "  (e) The last three characters of the string\n",
        "\n",
        "  (f) The string backwards\n",
        "\n",
        "  (g) The seventh character of the string if the string is long enough and a message otherwise\n",
        "\n",
        "  (h) The string with its first and last characters removed\n",
        "\n",
        "  (i) The string in all caps\n",
        "\n",
        "  (j) The string with every a replaced with an e\n",
        "  "
      ],
      "metadata": {
        "id": "Sl9bbUOK_4tN"
      }
    },
    {
      "cell_type": "code",
      "source": [
        "word = input(\"Enter a string: \")\n",
        "print(len(word))\n",
        "print(word * 10)\n",
        "print(word[0])\n",
        "print(word[0: 3])\n",
        "print(word[-3:])\n",
        "print(word[::-1])\n",
        "if len(word) >= 7:\n",
        "  print(word[6])\n",
        "else:\n",
        "  print(\"The word is not long enough\")\n",
        "print(word[1:-1])\n",
        "print(word.upper())\n",
        "print(word.replace(\"a\", \"e\"))"
      ],
      "metadata": {
        "id": "zHYR599Q-5aS",
        "colab": {
          "base_uri": "https://localhost:8080/"
        },
        "outputId": "1d61bfb8-6bed-499e-c4fb-2a5edce22b65"
      },
      "execution_count": 6,
      "outputs": [
        {
          "output_type": "stream",
          "name": "stdout",
          "text": [
            "Enter a stringjoshuaa\n",
            "7\n",
            "joshuaajoshuaajoshuaajoshuaajoshuaajoshuaajoshuaajoshuaajoshuaajoshuaa\n",
            "j\n",
            "jos\n",
            "uaa\n",
            "aauhsoj\n",
            "a\n",
            "oshua\n",
            "JOSHUAA\n",
            "joshuee\n"
          ]
        }
      ]
    },
    {
      "cell_type": "markdown",
      "source": [
        "2. Write a program that asks the user to enter a word and then capitalizes every other letter of that word. So if the user enters `rhinoceros`, the program should print `rHiNoCeRoS`."
      ],
      "metadata": {
        "id": "AdysPtlMKh_l"
      }
    },
    {
      "cell_type": "code",
      "source": [
        "word = input(\"Enter a word: \")\n",
        "new_word = list(word)\n",
        "result = []\n",
        "for index in range(len(new_word)):\n",
        "  if index % 2 == 0:\n",
        "    result.append(new_word[index].lower())\n",
        "  else:\n",
        "    result.append(new_word[index].upper())\n",
        "final = \"\".join(result)\n",
        "print(final)"
      ],
      "metadata": {
        "id": "obT22AhgK8xJ",
        "colab": {
          "base_uri": "https://localhost:8080/"
        },
        "collapsed": true,
        "outputId": "7104f467-7d75-4886-918d-35c23996c376"
      },
      "execution_count": 15,
      "outputs": [
        {
          "output_type": "stream",
          "name": "stdout",
          "text": [
            "Enter a word: joshua\n",
            "jOsHuA\n"
          ]
        }
      ]
    },
    {
      "cell_type": "markdown",
      "source": [
        "  3. When I was a kid, we used to play this game called Mad Libs. The way it worked was a friend\n",
        "  would ask me for some words and then insert those words into a story at specific places\n",
        "  and read the story. The story would often turn out to be pretty funny with the words I had\n",
        "  given since I had no idea what the story was about. The words were usually from a specific\n",
        "  category, like a place, an animal, etc.\n",
        "  \n",
        "  For this problem you will write a Mad Libs program. First, you should make up a story and\n",
        "  leave out some words of the story. Your program should ask the user to enter some words\n",
        "  and tell them what types of words to enter. Then print the full story along with the inserted\n",
        "  words. Here is a small example, but you should use your own (longer) example:\n",
        "\n",
        "    \n",
        "    Enter a college class: CALCULUS\n",
        "\n",
        "    Enter an adjective: HAPPY\n",
        "\n",
        "    Enter an activity: PLAY BASKETBALL\n",
        "\n",
        "    CALCULUS class was really HAPPY today. We learned how to\n",
        "\n",
        "    PLAY BASKETBALL today in class. I can't wait for tomorrow's\n",
        "    class!\n",
        "    \n"
      ],
      "metadata": {
        "id": "MW52bKZ9Ax4W"
      }
    },
    {
      "cell_type": "code",
      "source": [
        "skill = input(\"Enter a skill: \")\n",
        "media = input(\"Enter a Social Media: \")\n",
        "verb = input(\"Enter a verb: \")\n",
        "\n",
        "print(f\"I tried to show off my {skill} on {media}, but accidentally started to {verb} instead!\")\n"
      ],
      "metadata": {
        "id": "8Iv3kePsA1Am"
      },
      "execution_count": null,
      "outputs": []
    },
    {
      "cell_type": "markdown",
      "source": [
        "4. In calculus, the derivative of x 4 is 4x 3 . The derivative of x 5 is 5x 4 . The derivative of x 6 is\n",
        "6x 5 . This pattern continues. Write a program that asks the user for input like x^3 or x^25\n",
        "and prints the derivative. For example, if the user enters x^3, the program should print out\n",
        "3x^2."
      ],
      "metadata": {
        "id": "YlLffnEmBVkg"
      }
    },
    {
      "cell_type": "code",
      "source": [],
      "metadata": {
        "id": "zp8VEzYiBirs"
      },
      "execution_count": null,
      "outputs": []
    },
    {
      "cell_type": "markdown",
      "source": [
        "5. Write a program that generates the 26-line block of letters partially shown below. Use a loop\n",
        "containing one or two print statements.\n",
        "  ```\n",
        "  abcdefghijklmnopqrstuvwxyz\n",
        "  bcdefghijklmnopqrstuvwxyza\n",
        "  cdefghijklmnopqrstuvwxyzab\n",
        "  ...\n",
        "  yzabcdefghijklmnopqrstuvwx\n",
        "  zabcdefghijklmnopqrstuvwxy\n",
        "  ```"
      ],
      "metadata": {
        "id": "uIn3Fw4MBmEx"
      }
    },
    {
      "cell_type": "code",
      "source": [
        "#... enter your code here"
      ],
      "metadata": {
        "id": "0lpdbyaEB1Hn"
      },
      "execution_count": null,
      "outputs": []
    },
    {
      "cell_type": "markdown",
      "source": [
        "### **Lists**"
      ],
      "metadata": {
        "id": "X9RMlQv_LRIk"
      }
    },
    {
      "cell_type": "markdown",
      "source": [
        "6. Write a program that asks the user to enter a list of integers. Do the following:\n",
        "  (a) Print the total number of items in the list.\n",
        "\n",
        "  (b) Print the last item in the list.\n",
        "\n",
        "  (c) Print the list in reverse order.\n",
        "\n",
        "  (d) Print Yes if the list contains a 5 and No otherwise.\n",
        "\n",
        "  (e) Print the number of fives in the list.\n",
        "\n",
        "\n",
        "\n",
        "\n",
        "\n",
        "  (f) Remove the first and last items from the list, sort the remaining items, and print the result."
      ],
      "metadata": {
        "id": "2dKlr7cqLThw"
      }
    },
    {
      "cell_type": "code",
      "source": [
        "#... Write code here"
      ],
      "metadata": {
        "id": "tM5IqZdjLSys"
      },
      "execution_count": null,
      "outputs": []
    },
    {
      "cell_type": "markdown",
      "source": [
        "7. Using a for loop, create the list below, which consists of ones separated by increasingly many\n",
        "zeroes. The last two ones in the list should be separated by ten zeroes.\n",
        "[1,1,0,1,0,0,1,0,0,0,1,0,0,0,0,1,....]"
      ],
      "metadata": {
        "id": "w2axs9DkLfZ-"
      }
    },
    {
      "cell_type": "code",
      "source": [
        "#...Write code here"
      ],
      "metadata": {
        "id": "sr-pGnpYLqxe"
      },
      "execution_count": null,
      "outputs": []
    }
  ]
}